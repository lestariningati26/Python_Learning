{
  "cells": [
    {
      "cell_type": "markdown",
      "metadata": {
        "id": "A4h738gT67LT"
      },
      "source": [
        "# **Topik 8 - Miscellaneous**"
      ]
    },
    {
      "cell_type": "markdown",
      "metadata": {
        "id": "f7Ds7zFGM7_3"
      },
      "source": [
        "Topik ini merupakan topik tambahan yang bisa menambah pengetahuan tentang fitur-fitur yang ada di Python\n",
        "Fokus bahasannya adalah:\n",
        "Generator, iterator dan closures\n"
      ]
    },
    {
      "cell_type": "markdown",
      "metadata": {
        "id": "JSXFxd44NM7a"
      },
      "source": [
        "# **Generators**"
      ]
    },
    {
      "cell_type": "markdown",
      "metadata": {
        "id": "iqN02fgRNQMY"
      },
      "source": [
        "Generator di Python adalah sebuah kode yang dispesialisasi dan memiliki kemampuan untuk membuat sekumpulan nilai dan mengontrol proses iterasinya.  Dikarenakan mengurus masalah iterasi juga, generator sering disebut dengan iterators"
      ]
    },
    {
      "cell_type": "markdown",
      "metadata": {
        "id": "FbgTh3nWNggc"
      },
      "source": [
        "Fungsi  **`range()`** adalah sebuah generator (atau iterator).\n",
        "\n",
        "\n"
      ]
    },
    {
      "cell_type": "code",
      "execution_count": null,
      "metadata": {
        "colab": {
          "base_uri": "https://localhost:8080/"
        },
        "id": "rd1pYGcy827N",
        "outputId": "8382f505-f369-4e9c-ea5a-ced8166a3143"
      },
      "outputs": [
        {
          "name": "stdout",
          "output_type": "stream",
          "text": [
            "[0, 1, 2, 3, 4, 5, 6, 7, 8, 9, 10]\n"
          ]
        }
      ],
      "source": [
        "bilangan = [bil for bil in range(0,11)]\n",
        "print (bilangan)"
      ]
    },
    {
      "cell_type": "markdown",
      "metadata": {
        "id": "-fb4ZB-uO_l2"
      },
      "source": [
        "## **Iterator**"
      ]
    },
    {
      "cell_type": "markdown",
      "metadata": {
        "id": "NmLSrS10PFeb"
      },
      "source": [
        "Sebuah iterator harus mengikuti standar iterator protokol. Iterator protokol adalah sebuah cara bagaimana sebuah object harus bertindak untuk mengikuti aturan yang timbul di konteks statement for dan in. Sebuah iterator harus menyediakan dua method, yaitu:\n",
        "\n",
        "\n",
        "1.   **`__iter__()`** dimana method ini mengembalikan objek iterator itu sendiri dan yang dipanggil oleh objek iterator tersebut sekali.\n",
        "2.   **`__next()__`** dimana method ini mengembalikan next value dari sebuah series. Method ini akan dipanggil didalam for..in statement. Jika tidak ada nilai yang bisa dipanggil lagi oleh method ini dari series, method akan menimbulkan exception berupa `StopIteration`\n",
        "\n",
        "\n",
        "Berikut adalah contoh kasus iterator untuk deret Fibonacci:"
      ]
    },
    {
      "cell_type": "code",
      "execution_count": null,
      "metadata": {
        "colab": {
          "base_uri": "https://localhost:8080/"
        },
        "id": "NjludbVRPEnc",
        "outputId": "ce5a283e-e97d-48d4-e94c-74c24da138fe"
      },
      "outputs": [
        {
          "name": "stdout",
          "output_type": "stream",
          "text": [
            "__init__\n",
            "__iter__\n",
            "__next__\n",
            "1\n",
            "__next__\n",
            "1\n",
            "__next__\n",
            "2\n",
            "__next__\n",
            "3\n",
            "__next__\n",
            "5\n",
            "__next__\n",
            "8\n",
            "__next__\n",
            "13\n",
            "__next__\n",
            "21\n",
            "__next__\n",
            "34\n",
            "__next__\n",
            "55\n",
            "__next__\n"
          ]
        }
      ],
      "source": [
        "class Fib:\n",
        "    def __init__(self, nn):\n",
        "        print(\"__init__\")\n",
        "        self.__n = nn\n",
        "        self.__i = 0\n",
        "        self.__p1 = self.__p2 = 1\n",
        "\n",
        "    def __iter__(self):\n",
        "        print(\"__iter__\")\n",
        "        return self\n",
        "\n",
        "    def __next__(self):\n",
        "        print(\"__next__\")\n",
        "        self.__i += 1\n",
        "        if self.__i > self.__n:\n",
        "            raise StopIteration\n",
        "        if self.__i in [1, 2]:\n",
        "            return 1\n",
        "        ret = self.__p1 + self.__p2\n",
        "        self.__p1, self.__p2 = self.__p2, ret\n",
        "        return ret\n",
        "\n",
        "\n",
        "for i in Fib(10):\n",
        "    print(i)"
      ]
    },
    {
      "cell_type": "markdown",
      "metadata": {
        "id": "oMXPlU3lQ3T5"
      },
      "source": [
        "# **Statement yield**"
      ]
    },
    {
      "cell_type": "markdown",
      "metadata": {
        "id": "vZedNblCQ7HI"
      },
      "source": [
        "Perhatikan contoh kode program berikut:"
      ]
    },
    {
      "cell_type": "code",
      "execution_count": null,
      "metadata": {
        "colab": {
          "base_uri": "https://localhost:8080/"
        },
        "id": "L0NwaUSgDZbe",
        "outputId": "18db88ea-6d96-4516-b69f-38a2fe436a80"
      },
      "outputs": [
        {
          "name": "stdout",
          "output_type": "stream",
          "text": [
            "0\n"
          ]
        }
      ],
      "source": [
        "def coba(n):\n",
        "  for i in range (n):\n",
        "    return i\n",
        "\n",
        "print(coba(11))"
      ]
    },
    {
      "cell_type": "markdown",
      "metadata": {
        "id": "JtVCbj-ORLbK"
      },
      "source": [
        "Ada yang aneh dengan program tersebut? Program tersebut akan selalu mengembalikan nilai 0 untuk nilai integer apapun yand di passing ke dalam parameternya. Kenapa itu bisa terjadi?"
      ]
    },
    {
      "cell_type": "markdown",
      "metadata": {
        "id": "I30ZVtbNRc7W"
      },
      "source": [
        "Perintah `return` hanya bisa mengembalikan satu buah nilai dari sebuah tipe data (baik tipe data primitif maupun tipe koleksi). Biasanya apabila kita ingin me-return banyak nilai, maka kita akan gunakan struktur data kolesi untuk menampung lalu kita kembalikan nilainya melalui `return`. Ada cara lain yang disediakan Python, yaitu menggunakan kata kunci yield. Kata kunci ini digunakan sebagai pengganti perintah `return`\n"
      ]
    },
    {
      "cell_type": "code",
      "execution_count": null,
      "metadata": {
        "id": "XPxLxUAVNl6r"
      },
      "outputs": [],
      "source": [
        "def coba(n):\n",
        "  for i in range (n):\n",
        "    yield i"
      ]
    },
    {
      "cell_type": "code",
      "execution_count": null,
      "metadata": {
        "colab": {
          "base_uri": "https://localhost:8080/"
        },
        "id": "pvicgaTDG0io",
        "outputId": "daf24ac1-1a34-4dcc-a90d-beb28a035352"
      },
      "outputs": [
        {
          "name": "stdout",
          "output_type": "stream",
          "text": [
            "0\n",
            "1\n",
            "2\n",
            "3\n",
            "4\n",
            "5\n",
            "6\n",
            "7\n",
            "8\n",
            "9\n",
            "10\n"
          ]
        }
      ],
      "source": [
        "def coba(n):\n",
        "  for i in range (n):\n",
        "    yield i\n",
        "\n",
        "for angka in coba(11):\n",
        "    print(angka)"
      ]
    },
    {
      "cell_type": "markdown",
      "metadata": {
        "id": "WpiZbBgOSSNK"
      },
      "source": [
        "catatan : Karena yield adalah sebuah generator maka untu memanggil nilainya dibutuhkan statement for .. in"
      ]
    },
    {
      "cell_type": "markdown",
      "metadata": {
        "id": "qDczH3XsS3ka"
      },
      "source": [
        "### **Hands on Lab 1 : Generator bilangan genap**"
      ]
    },
    {
      "cell_type": "markdown",
      "metadata": {
        "id": "A86OO5NrTQsP"
      },
      "source": [
        "Berikut adalah contoh kode program untuk membuat generator deret bilangan genap\n"
      ]
    },
    {
      "cell_type": "code",
      "execution_count": null,
      "metadata": {
        "colab": {
          "base_uri": "https://localhost:8080/"
        },
        "id": "3TPaoPgaUFyc",
        "outputId": "0b06ac27-349e-4934-a007-e9afa028729b"
      },
      "outputs": [
        {
          "name": "stdout",
          "output_type": "stream",
          "text": [
            "0\n",
            "2\n",
            "4\n",
            "6\n",
            "8\n",
            "10\n"
          ]
        }
      ],
      "source": [
        "def bilangan_genap(maxnumber):\n",
        "  for i in range(maxnumber):\n",
        "    if i % 2 ==0:\n",
        "      yield i\n",
        "\n",
        "for bilangan in bilangan_genap(11):\n",
        "  print(bilangan)"
      ]
    },
    {
      "cell_type": "markdown",
      "metadata": {
        "id": "JkfHXk0pVkCc"
      },
      "source": [
        "### **Bagaimana membuat deret fibonacci menggunakan yield?**"
      ]
    },
    {
      "cell_type": "code",
      "execution_count": null,
      "metadata": {
        "colab": {
          "base_uri": "https://localhost:8080/"
        },
        "id": "c0QA0i4cLnV-",
        "outputId": "a89819fb-eb9d-48e0-9376-cae1585ad247"
      },
      "outputs": [
        {
          "name": "stdout",
          "output_type": "stream",
          "text": [
            "0\n",
            "1\n",
            "1\n",
            "2\n",
            "3\n",
            "5\n",
            "8\n",
            "13\n",
            "21\n",
            "34\n"
          ]
        }
      ],
      "source": [
        "def fibonanci_generator(n):\n",
        "  a, b = 0, 1\n",
        "  for _ in range(n):\n",
        "    yield a\n",
        "    a, b = b, a + b\n",
        "\n",
        "for angka in fibonanci_generator (10):\n",
        "  print(angka)"
      ]
    },
    {
      "cell_type": "markdown",
      "metadata": {
        "id": "QGCQztddVuSq"
      },
      "source": [
        "## **Fungsi Lambda**"
      ]
    },
    {
      "cell_type": "markdown",
      "metadata": {
        "id": "Ku_a90fXV1bd"
      },
      "source": [
        "Lambda function adalah sebuah konsep yang diambil dari fungsi lambda di matematika dimana pada implementasinya, fungsi ini tidak memiliki naman atau disebut anonymous function. Format umum dari fungsi ini adalah sebagai berikut:"
      ]
    },
    {
      "cell_type": "markdown",
      "metadata": {
        "id": "mSoq8ngzWTyp"
      },
      "source": [
        "**`lambda parameter:expression`**"
      ]
    },
    {
      "cell_type": "markdown",
      "metadata": {
        "id": "g5wM5nJwWXw5"
      },
      "source": [
        "Berikut contoh penggunaan lambda function"
      ]
    },
    {
      "cell_type": "code",
      "execution_count": null,
      "metadata": {
        "colab": {
          "base_uri": "https://localhost:8080/"
        },
        "id": "ZwuBpzdDWRkt",
        "outputId": "18fd3c66-05ba-4032-fff8-ae2ea3936abf"
      },
      "outputs": [
        {
          "data": {
            "text/plain": [
              "27"
            ]
          },
          "execution_count": 37,
          "metadata": {},
          "output_type": "execute_result"
        }
      ],
      "source": [
        "# membuat fungsi sendiri\n",
        "def bilangan_pangkat_tiga(bil):\n",
        "  return bil*bil*bil\n",
        "\n",
        "bilangan_pangkat_tiga(3)"
      ]
    },
    {
      "cell_type": "code",
      "execution_count": null,
      "metadata": {
        "colab": {
          "base_uri": "https://localhost:8080/"
        },
        "id": "h58m5H4cgKnZ",
        "outputId": "4d803bef-ad1b-442a-8c33-09dc2512371b"
      },
      "outputs": [
        {
          "data": {
            "text/plain": [
              "27"
            ]
          },
          "execution_count": 38,
          "metadata": {},
          "output_type": "execute_result"
        }
      ],
      "source": [
        "# menggunakan lambda\n",
        "bilangan_pangkat_tiga = lambda bil : bil*bil * bil\n",
        "\n",
        "bilangan_pangkat_tiga(3)"
      ]
    },
    {
      "cell_type": "markdown",
      "metadata": {
        "id": "iPfTuYNNW83Q"
      },
      "source": [
        "## **Hands in Lab 4 : Mari pakai Lambda**"
      ]
    },
    {
      "cell_type": "markdown",
      "metadata": {
        "id": "tUONud2LXH-o"
      },
      "source": [
        "Ubahlah fungsi matematika berikut menjadi fungsi lambda"
      ]
    },
    {
      "cell_type": "markdown",
      "metadata": {
        "id": "6Xo_n4iJXNAZ"
      },
      "source": [
        "f(x) = 2x^2+4x+3"
      ]
    },
    {
      "cell_type": "code",
      "execution_count": null,
      "metadata": {
        "colab": {
          "base_uri": "https://localhost:8080/"
        },
        "id": "Rk5YpuWOWIJ2",
        "outputId": "79b74b0b-c13e-4f16-a0c1-89bdb0c7c071"
      },
      "outputs": [
        {
          "name": "stdout",
          "output_type": "stream",
          "text": [
            "243\n"
          ]
        }
      ],
      "source": [
        "fx = lambda x: 2*x**2 + 4*x +3\n",
        "print(fx(10))"
      ]
    },
    {
      "cell_type": "markdown",
      "metadata": {
        "id": "LrygAE7VXk3f"
      },
      "source": [
        "Bagaimana kalau kita gabungkan antara penggunaan operator list dengan fungsi lambda dalam kasus tersebut agar dapat menghitung f(0) sampai dengan f(10)?"
      ]
    },
    {
      "cell_type": "code",
      "execution_count": null,
      "metadata": {
        "colab": {
          "base_uri": "https://localhost:8080/"
        },
        "id": "020VLGa8XmKp",
        "outputId": "5e7bcf20-7476-41c2-bd35-531f0d6e922f"
      },
      "outputs": [
        {
          "name": "stdout",
          "output_type": "stream",
          "text": [
            "f()0)=3\n",
            "f()1)=9\n",
            "f()2)=19\n",
            "f()3)=33\n",
            "f()4)=51\n",
            "f()5)=73\n",
            "f()6)=99\n",
            "f()7)=129\n",
            "f()8)=163\n",
            "f()9)=201\n",
            "f()10)=243\n"
          ]
        }
      ],
      "source": [
        "def print_function(args, fun):\n",
        "  for x in args:\n",
        "    print ('f()', x, ')=', fun(x), sep='')\n",
        "\n",
        "print_function([x for x in range(11)], lambda x: 2*x**2+4*x +3)"
      ]
    },
    {
      "cell_type": "markdown",
      "metadata": {
        "id": "hMxSkaDjf-2J"
      },
      "source": [
        "Contoh lain"
      ]
    },
    {
      "cell_type": "code",
      "execution_count": null,
      "metadata": {
        "colab": {
          "base_uri": "https://localhost:8080/"
        },
        "id": "tkqEfag6f_9k",
        "outputId": "d49ae691-b087-4f89-8458-7f420197dcca"
      },
      "outputs": [
        {
          "name": "stdout",
          "output_type": "stream",
          "text": [
            "4 4\n",
            "1 1\n",
            "0 0\n",
            "1 1\n",
            "4 4\n"
          ]
        }
      ],
      "source": [
        "bil = lambda : 2\n",
        "akar_kuadrat = lambda x : x * x\n",
        "pangkat_xy = lambda x, y : x ** y\n",
        "\n",
        "for a in range(-2, 3):\n",
        "  print(akar_kuadrat(a), end=\" \")\n",
        "  print(pangkat_xy(a, bil()))"
      ]
    },
    {
      "cell_type": "markdown",
      "metadata": {
        "id": "QvRr4Q4pXsLC"
      },
      "source": [
        "## **Fungsi `map()` pada lambda**"
      ]
    },
    {
      "cell_type": "markdown",
      "metadata": {
        "id": "tcOwebFvX-XF"
      },
      "source": [
        "Fungsi `map()` digunakan untuk memetakan argumen ke argumen lain (argumen2) pada fungsi lambda dalam rangka memberikan pemrosesan pada argumen tersebut. Format umumnya adalah sebagai berikut:\n",
        "\n",
        "`map(lambda_expression, collection)`"
      ]
    },
    {
      "cell_type": "markdown",
      "metadata": {
        "id": "vbzPkpiSYD1l"
      },
      "source": [
        "Lambda expression diisi dengan kondisional yang mau digunakan sebagai filter datanya. Berikut contoh penggunaannya:"
      ]
    },
    {
      "cell_type": "code",
      "execution_count": null,
      "metadata": {
        "colab": {
          "base_uri": "https://localhost:8080/"
        },
        "id": "_Kmpct1wYA4h",
        "outputId": "8c00f73c-db9f-4bf7-dd7d-8b3bc872af16"
      },
      "outputs": [
        {
          "name": "stdout",
          "output_type": "stream",
          "text": [
            "[1, 2, 4, 8, 16, 32]\n",
            "2\n",
            "3\n",
            "5\n",
            "9\n",
            "17\n",
            "33\n"
          ]
        }
      ],
      "source": [
        "list_bilangan1 = [x for x in range (6)]\n",
        "list_bilangan2 = list(map(lambda x: 2 ** x, list_bilangan1))\n",
        "print(list_bilangan2)\n",
        "\n",
        "for bil in map(lambda x: x+1, list_bilangan2):\n",
        "  print(bil)"
      ]
    },
    {
      "cell_type": "markdown",
      "metadata": {
        "id": "7tqspXl-_QQ9"
      },
      "source": [
        "Deret yang memunculkan deretan sbb: [1, 4, 3, 6, 5, 8, 7, 10, 9, 12]"
      ]
    },
    {
      "cell_type": "code",
      "execution_count": null,
      "metadata": {
        "colab": {
          "base_uri": "https://localhost:8080/"
        },
        "id": "BzfoPi--_W8G",
        "outputId": "6edd2bba-8474-4a37-9f17-83cc95ea3517"
      },
      "outputs": [
        {
          "name": "stdout",
          "output_type": "stream",
          "text": [
            "[1, 2, 3, 4, 5, 6, 7, 8, 9, 10]\n",
            "[1, 4, 3, 6, 5, 8, 7, 10, 9, 12]\n"
          ]
        }
      ],
      "source": [
        "list_bilangan=[bil for bil in range (1,11)]\n",
        "print(list_bilangan)\n",
        "\n",
        "list_bilangan_kel2 = list(map(lambda x:x+2 if x%2==0 else x, list_bilangan))\n",
        "print(list_bilangan_kel2)"
      ]
    },
    {
      "cell_type": "markdown",
      "metadata": {
        "id": "H9FoO9o7YTCQ"
      },
      "source": [
        "## **Fungsi `filter()` pada Lambda**"
      ]
    },
    {
      "cell_type": "markdown",
      "metadata": {
        "id": "QQaifQhSYqOO"
      },
      "source": [
        "Fungsi filter() digunakan untuk menseleksi elemen yang di generate menggunakan generator. Format umumnya adalah sebagai berikut:"
      ]
    },
    {
      "cell_type": "markdown",
      "metadata": {
        "id": "gy-8i79MYyTM"
      },
      "source": [
        "`filter(lambda_expression, collection)`"
      ]
    },
    {
      "cell_type": "markdown",
      "metadata": {
        "id": "exKZy3ZnY6vB"
      },
      "source": [
        "Lambda expression diisi dengan kondisional yang mau digunakan sebagai filter datanya. Berikut contoh penggunaannya:"
      ]
    },
    {
      "cell_type": "code",
      "execution_count": null,
      "metadata": {
        "colab": {
          "base_uri": "https://localhost:8080/"
        },
        "id": "7YmBHX12X7rP",
        "outputId": "ee474c15-2246-4a40-d3cf-87df6749eb40"
      },
      "outputs": [
        {
          "name": "stdout",
          "output_type": "stream",
          "text": [
            "[0, 1, 2, 3, 4, 5]\n",
            "[4, 5]\n"
          ]
        }
      ],
      "source": [
        "list_bilangan1=[x for x in range(6)]\n",
        "list_bilangan_filtered = list(filter(lambda x : x>=4, list_bilangan1))\n",
        "\n",
        "print(list_bilangan1)\n",
        "print(list_bilangan_filtered)"
      ]
    },
    {
      "cell_type": "code",
      "execution_count": null,
      "metadata": {
        "colab": {
          "base_uri": "https://localhost:8080/"
        },
        "id": "avdwhz4txBcI",
        "outputId": "d46bc1c0-bb31-42be-d839-23b238e3bf13"
      },
      "outputs": [
        {
          "name": "stdout",
          "output_type": "stream",
          "text": [
            "[0, 1, 2, 3, 4, 5]\n",
            "[0, 1, 2, 3, 4]\n"
          ]
        }
      ],
      "source": [
        "list_bilangan_asal=[x for x in range(6)]\n",
        "print(list_bilangan_asal)\n",
        "\n",
        "list_bil_filtered = list(filter(lambda x : x<=4, list_bilangan_asal))\n",
        "print(list_bil_filtered)\n"
      ]
    },
    {
      "cell_type": "markdown",
      "metadata": {
        "id": "yfqQIm_HZcWn"
      },
      "source": [
        "## **Closure**"
      ]
    },
    {
      "cell_type": "markdown",
      "metadata": {
        "id": "A7iimJnjZhHl"
      },
      "source": [
        "Closure adalah teknik yang memungkinkan penyimpanan nilai walaupun konteks yang menciptakan nilai tersebut sudah tidak eksis di memori lagi. Mari kita perhatikan contoh kode program berikut:"
      ]
    },
    {
      "cell_type": "code",
      "execution_count": null,
      "metadata": {
        "id": "-iOd8S1NZLMd"
      },
      "outputs": [],
      "source": [
        "def outer(par):\n",
        "    loc = par\n",
        "\n",
        "    def inner():\n",
        "        return loc\n",
        "    return inner\n",
        "\n",
        "var = 1\n",
        "fun = outer(var)\n",
        "print(fun())"
      ]
    },
    {
      "cell_type": "markdown",
      "metadata": {
        "id": "revo4WM4Zo4W"
      },
      "source": [
        "Penjelasan:\n",
        "\n",
        "1.   Fungsi `inner()` mengembalikan nilai dari variabel yang diakses dalam scope nya. Sebagai inner function (fungsi didalam fungsi) maka `inner()` bisa menggunakan entity pada fungsi `outer()`\n",
        "2.   `outer()` mengembalikan `inner()` sebagai return value nya\n",
        "\n",
        "\n"
      ]
    },
    {
      "cell_type": "markdown",
      "metadata": {
        "id": "jzxFAoheZqpE"
      },
      "source": [
        "Fungsi yang dikembalikan oleh `outer()` ketika dipanggil disebut dengan closure"
      ]
    },
    {
      "cell_type": "code",
      "execution_count": null,
      "metadata": {
        "colab": {
          "base_uri": "https://localhost:8080/"
        },
        "id": "QNGQuQVRZ7ii",
        "outputId": "52e245ff-4c6c-4b3a-9abc-a5fbca54ee9f"
      },
      "outputs": [
        {
          "name": "stdout",
          "output_type": "stream",
          "text": [
            "0 0 0\n",
            "1 1 1\n",
            "2 4 8\n",
            "3 9 27\n",
            "4 16 64\n"
          ]
        }
      ],
      "source": [
        "def make_closure(par):\n",
        "  loc = par\n",
        "\n",
        "  def power(p):\n",
        "    return p ** loc\n",
        "  return power\n",
        "\n",
        "fsqr = make_closure(2)\n",
        "fcub = make_closure(3)\n",
        "\n",
        "for i in range(5):\n",
        "  print(i, fsqr(i), fcub(i))"
      ]
    }
  ],
  "metadata": {
    "colab": {
      "provenance": []
    },
    "kernelspec": {
      "display_name": "Python 3",
      "name": "python3"
    },
    "language_info": {
      "name": "python"
    }
  },
  "nbformat": 4,
  "nbformat_minor": 0
}
